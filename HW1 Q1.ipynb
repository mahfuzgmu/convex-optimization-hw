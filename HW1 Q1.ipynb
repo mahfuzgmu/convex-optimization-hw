{
 "cells": [
  {
   "cell_type": "markdown",
   "id": "6c117e8e",
   "metadata": {},
   "source": [
    "# Problem Statement\n",
    "\n",
    "A small engineering consulting firm has 3 senior designers available to work on the firm's 4 current projects over the next 2 weeks. Each designer has 80 hours to split among the projects, and the following table shows the manager's scoring $(0=$ nil to $100=$ perfect $)$ of the capability of each designer to contribute to each project, along with his estimate of the hours that each project will require.\n",
    "\n",
    "\n",
    "|      Designer     | Project 1    | Project 2    | Project 3    | Project 4    |\n",
    "|----------|--------------|--------------|--------------|--------------|\n",
    "| 1        | 90           | 80           | 10           | 50           |\n",
    "| 2        | 60           | 70           | 50           | 65           |\n",
    "| 3        | 70           | 40           | 80           | 85           |\n",
    "\n",
    "\n",
    "\n",
    "|     **Required:**      | Project 1    | Project 2    | Project 3    | Project 4    |\n",
    "|-----------|--------------|--------------|--------------|--------------|\n",
    "| **Hours** | 70           | 50           | 85           | 35           |\n"
   ]
  },
  {
   "cell_type": "markdown",
   "id": "26cd09a6",
   "metadata": {},
   "source": [
    "#### Imports"
   ]
  },
  {
   "cell_type": "code",
   "execution_count": 1,
   "id": "b2bad889-3194-41db-a627-a955f1a6638b",
   "metadata": {
    "tags": []
   },
   "outputs": [],
   "source": [
    "import matplotlib.pyplot as plt\n",
    "import numpy as np\n",
    "import pandas as pd\n",
    "\n",
    "import shutil\n",
    "import sys\n",
    "import os.path\n",
    "from pyomo.environ import *\n",
    "\n",
    "import pyomo.environ as pe\n",
    "import pyomo.opt as po"
   ]
  },
  {
   "cell_type": "markdown",
   "id": "91c24922",
   "metadata": {},
   "source": [
    "#### Defining Data"
   ]
  },
  {
   "cell_type": "code",
   "execution_count": 2,
   "id": "2723c9a1-041a-40a4-9acb-da5a4c74bd00",
   "metadata": {
    "tags": []
   },
   "outputs": [],
   "source": [
    "Engg = {'E1','E2','E3'}    # Check the type by: type(Engg)"
   ]
  },
  {
   "cell_type": "code",
   "execution_count": 3,
   "id": "106c42e4-1f57-4790-882f-80f6f29f6d98",
   "metadata": {
    "tags": []
   },
   "outputs": [],
   "source": [
    "Proj = {'P1','P2','P3','P4'}"
   ]
  },
  {
   "cell_type": "code",
   "execution_count": 4,
   "id": "d997a92e-bcd3-4340-8ce5-7353dd94aeed",
   "metadata": {
    "tags": []
   },
   "outputs": [],
   "source": [
    "score = {\n",
    "    ('E1','P1'):90,\n",
    "    ('E1','P2'):80,\n",
    "    ('E1','P3'):10,\n",
    "    ('E1','P4'):50,\n",
    "    ('E2','P1'):60,\n",
    "    ('E2','P2'):70,\n",
    "    ('E2','P3'):50,\n",
    "    ('E2','P4'):65,\n",
    "    ('E3','P1'):70,\n",
    "    ('E3','P2'):40,\n",
    "    ('E3','P3'):80,\n",
    "    ('E3','P4'):85,\n",
    "}   # Dictionary with tuples as keys (based on our defined sets)"
   ]
  },
  {
   "cell_type": "code",
   "execution_count": 5,
   "id": "15bb9ed8-eede-4f9a-a5cc-bdc5c09c142a",
   "metadata": {
    "tags": []
   },
   "outputs": [],
   "source": [
    "hours_needed = {\n",
    "    ('P1'):70,\n",
    "    ('P2'):50,\n",
    "    ('P3'):85,\n",
    "    ('P4'):35,\n",
    "}"
   ]
  },
  {
   "cell_type": "code",
   "execution_count": 6,
   "id": "356fdc38-4312-44d4-b1f3-14583a6b2cbc",
   "metadata": {
    "tags": []
   },
   "outputs": [],
   "source": [
    "max_hours = 80"
   ]
  },
  {
   "cell_type": "markdown",
   "id": "2865fe21",
   "metadata": {},
   "source": [
    "## Model"
   ]
  },
  {
   "cell_type": "markdown",
   "id": "fc1d0068",
   "metadata": {},
   "source": [
    "Let the design engineers be set $E$ with $E_{i} \\; :i \\in [1,2,3]$ and the projects be $P$ with  $P_{j} \\; :j \\in [1,2,3,4]$. We can model the problem as allocation of the number of hours $H_{ij}$ with each design engineer $E_{i}$ $\\forall i $ that are being put onto the projects $P_{j}$ $\\forall j $, given the $i^{th}$ engineer $E$ works on $j^{th}$ project with given score $e_{ij}$.\n",
    "\n",
    "Let the maximum hours available with each engineer be $H_{max}$ and the required number of hours for each project $P_j$ be $R_{j} \\; \\forall j $. Thus, then the mathematical formulation can be made as:\n",
    "\n",
    "$$\n",
    "\\text{Maximize } \\sum_{i \\in E} \\sum_{j \\in P} H_{ij} e_{ij}\n",
    "$$\n",
    "\n",
    "Subject to:\n",
    "\n",
    "$$\n",
    "\\sum_{j \\in P} H_{ij} \\leq H_{max} \\;\\; \\forall i \\in E\n",
    "$$\n",
    "\n",
    "$$\n",
    "\\sum_{i \\in E} H_{ij} \\geq R_j \\;\\; \\forall j \\in P\n",
    "$$\n",
    "\n",
    "$$\n",
    "H_{ij} \\geq 0 \\;\\; \\forall i,j\n",
    "$$\n"
   ]
  },
  {
   "cell_type": "markdown",
   "id": "2b0c737d",
   "metadata": {},
   "source": [
    "## Implement"
   ]
  },
  {
   "cell_type": "code",
   "execution_count": 7,
   "id": "f98d874d-77c6-4b5a-b07a-566e7eb15e1a",
   "metadata": {
    "tags": []
   },
   "outputs": [],
   "source": [
    "m = pe.ConcreteModel()"
   ]
  },
  {
   "cell_type": "markdown",
   "id": "8a44544b",
   "metadata": {},
   "source": [
    "#### Initializing Sets"
   ]
  },
  {
   "cell_type": "code",
   "execution_count": 8,
   "id": "8b6f9860-0007-4b14-96e0-681b27100b52",
   "metadata": {
    "tags": []
   },
   "outputs": [
    {
     "name": "stdout",
     "output_type": "stream",
     "text": [
      "WARNING: Initializing ordered Set Engg with a fundamentally unordered data\n",
      "source (type: set).  This WILL potentially lead to nondeterministic behavior\n",
      "in Pyomo\n",
      "WARNING: Initializing ordered Set Proj with a fundamentally unordered data\n",
      "source (type: set).  This WILL potentially lead to nondeterministic behavior\n",
      "in Pyomo\n"
     ]
    }
   ],
   "source": [
    "m.Engg = pe.Set(initialize=Engg)\n",
    "m.Proj = pe.Set(initialize=Proj)     # Ignore if any warnings appear"
   ]
  },
  {
   "cell_type": "markdown",
   "id": "ede40bc1",
   "metadata": {},
   "source": [
    "#### Initializing Parameters"
   ]
  },
  {
   "cell_type": "code",
   "execution_count": 9,
   "id": "f08eef5a-0a44-41ee-8461-55cbedd454ac",
   "metadata": {
    "tags": []
   },
   "outputs": [],
   "source": [
    "m.score = pe.Param(m.Engg, m.Proj, initialize=score)\n",
    "m.hours_needed = pe.Param(m.Proj, initialize=hours_needed)\n",
    "m.max_hours = pe.Param(initialize=max_hours)"
   ]
  },
  {
   "cell_type": "markdown",
   "id": "c1d2b4e7",
   "metadata": {},
   "source": [
    "#### Initializing [Variables](https://pyomo.readthedocs.io/en/stable/pyomo_modeling_components/Sets.html) \n",
    "> Note: Refer the documnetation to also note other Predefined Virtual Sets"
   ]
  },
  {
   "cell_type": "code",
   "execution_count": 10,
   "id": "924f785b-ab20-480a-8e86-c7e864308e33",
   "metadata": {
    "tags": []
   },
   "outputs": [],
   "source": [
    "m.H = pe.Var(m.Engg, m.Proj, domain=pe.NonNegativeReals) \n"
   ]
  },
  {
   "cell_type": "markdown",
   "id": "5ce34db7",
   "metadata": {},
   "source": [
    "#### Defining Objective"
   ]
  },
  {
   "cell_type": "code",
   "execution_count": 11,
   "id": "90d750d6-132a-4bf5-a8c3-a48ae106dfeb",
   "metadata": {
    "tags": []
   },
   "outputs": [],
   "source": [
    "obj_expr = sum(m.H[i,j]*m.score[i,j] \n",
    "               for i in m.Engg for j in m.Proj)\n",
    "m.obj = pe.Objective(sense=pe.maximize, expr=obj_expr)"
   ]
  },
  {
   "cell_type": "markdown",
   "id": "cb6009b5",
   "metadata": {},
   "source": [
    "#### Defining [Constraints](https://pyomo.readthedocs.io/en/stable/pyomo_modeling_components/Constraints.html)\n",
    "> Note: Refer the documentation to see other ways to write the constraints, such as using a Constraint List"
   ]
  },
  {
   "cell_type": "code",
   "execution_count": 12,
   "id": "1bead16c-2b53-4a73-99fa-76c947862ed3",
   "metadata": {
    "tags": []
   },
   "outputs": [],
   "source": [
    "def maxhour_rule(m,i):\n",
    "    return sum(m.H[i,j] for j in m.Proj) <= m.max_hours\n",
    "\n",
    "m.maximum_hours =  pe.Constraint(m.Engg, rule=maxhour_rule)"
   ]
  },
  {
   "cell_type": "code",
   "execution_count": 13,
   "id": "1d88855f-ed38-4838-9b2e-b48405323592",
   "metadata": {
    "tags": []
   },
   "outputs": [],
   "source": [
    "def projhour_rule(m,j):  \n",
    "    return sum(m.H[i,j] for i in m.Engg) >= m.hours_needed[j]\n",
    "\n",
    "m.proj_hours = pe.Constraint(m.Proj, rule=projhour_rule)"
   ]
  },
  {
   "cell_type": "markdown",
   "id": "b32ed018",
   "metadata": {},
   "source": [
    "## Solve and Postprocess"
   ]
  },
  {
   "cell_type": "code",
   "execution_count": 15,
   "id": "1750b5ea-074b-40f1-bf9e-677b065fbe32",
   "metadata": {
    "tags": []
   },
   "outputs": [
    {
     "name": "stdout",
     "output_type": "stream",
     "text": [
      "Set parameter Username\n",
      "Academic license - for non-commercial use only - expires 2025-05-08\n",
      "Read LP format model from file /var/folders/2v/vg66th916yb1cgzdj_0k857c0000gn/T/tmpcf_vfbl0.pyomo.lp\n",
      "Reading time = 0.00 seconds\n",
      "x1: 7 rows, 12 columns, 24 nonzeros\n",
      "Gurobi Optimizer version 11.0.1 build v11.0.1rc0 (mac64[arm] - Darwin 24.0.0 24A348)\n",
      "\n",
      "CPU model: Apple M1\n",
      "Thread count: 8 physical cores, 8 logical processors, using up to 8 threads\n",
      "\n",
      "Optimize a model with 7 rows, 12 columns and 24 nonzeros\n",
      "Model fingerprint: 0x55465dd5\n",
      "Coefficient statistics:\n",
      "  Matrix range     [1e+00, 1e+00]\n",
      "  Objective range  [1e+01, 9e+01]\n",
      "  Bounds range     [0e+00, 0e+00]\n",
      "  RHS range        [4e+01, 8e+01]\n",
      "Presolve time: 0.00s\n",
      "Presolved: 7 rows, 12 columns, 24 nonzeros\n",
      "\n",
      "Iteration    Objective       Primal Inf.    Dual Inf.      Time\n",
      "       0    7.5000000e+32   1.200000e+31   7.500000e+02      0s\n",
      "       7    1.8825000e+04   0.000000e+00   0.000000e+00      0s\n",
      "\n",
      "Solved in 7 iterations and 0.00 seconds (0.00 work units)\n",
      "Optimal objective  1.882500000e+04\n"
     ]
    }
   ],
   "source": [
    "solver = po.SolverFactory('gurobi')\n",
    "results = solver.solve(m, tee=True)"
   ]
  },
  {
   "cell_type": "code",
   "execution_count": 16,
   "id": "6bd4b914-2be2-4d79-831e-0d6856ad4ac2",
   "metadata": {
    "tags": []
   },
   "outputs": [
    {
     "name": "stdout",
     "output_type": "stream",
     "text": [
      "Optimal Assignment Objective:  18825.0\n"
     ]
    }
   ],
   "source": [
    "print(\"Optimal Assignment Objective: \",pe.value(m.obj))"
   ]
  },
  {
   "cell_type": "code",
   "execution_count": 17,
   "id": "8aefc768-46c2-4f7f-92c2-c7569dab601b",
   "metadata": {
    "tags": []
   },
   "outputs": [
    {
     "name": "stdout",
     "output_type": "stream",
     "text": [
      "Engg E2  working on Project P1 =  0.0  Hours\n",
      "Engg E2  working on Project P4 =  35.0  Hours\n",
      "Engg E2  working on Project P2 =  40.0  Hours\n",
      "Engg E2  working on Project P3 =  5.0  Hours\n",
      "Engg E1  working on Project P1 =  70.0  Hours\n",
      "Engg E1  working on Project P4 =  0.0  Hours\n",
      "Engg E1  working on Project P2 =  10.0  Hours\n",
      "Engg E1  working on Project P3 =  0.0  Hours\n",
      "Engg E3  working on Project P1 =  0.0  Hours\n",
      "Engg E3  working on Project P4 =  0.0  Hours\n",
      "Engg E3  working on Project P2 =  0.0  Hours\n",
      "Engg E3  working on Project P3 =  80.0  Hours\n"
     ]
    }
   ],
   "source": [
    "for i in m.Engg:\n",
    "    for j in m.Proj:\n",
    "        print(\"Engg\",i,\" working on Project\",j,\"= \",pe.value(m.H[i,j]),\" Hours\")\n"
   ]
  },
  {
   "cell_type": "code",
   "execution_count": 17,
   "id": "7b51b43e-ea20-43d9-b0d7-41c5e0656ed0",
   "metadata": {},
   "outputs": [
    {
     "name": "stdout",
     "output_type": "stream",
     "text": [
      "Hours Worked by Engineer E3 =  80.0  Hours\n",
      "Hours Worked by Engineer E2 =  80.0  Hours\n",
      "Hours Worked by Engineer E1 =  80.0  Hours\n"
     ]
    }
   ],
   "source": [
    "for i in m.Engg:\n",
    "    h = pe.value(sum(m.H[i,j] for j in m.Proj))\n",
    "    print(\"Hours Worked by Engineer\",i,\"= \",h,\" Hours\")"
   ]
  },
  {
   "cell_type": "code",
   "execution_count": 23,
   "id": "95695c26",
   "metadata": {},
   "outputs": [
    {
     "name": "stdout",
     "output_type": "stream",
     "text": [
      "Set parameter Username\n",
      "Academic license - for non-commercial use only - expires 2025-05-08\n",
      "Read LP format model from file /var/folders/2v/vg66th916yb1cgzdj_0k857c0000gn/T/tmpr430592r.pyomo.lp\n",
      "Reading time = 0.00 seconds\n",
      "x1: 7 rows, 12 columns, 24 nonzeros\n",
      "Gurobi Optimizer version 11.0.1 build v11.0.1rc0 (mac64[arm] - Darwin 24.0.0 24A348)\n",
      "\n",
      "CPU model: Apple M1\n",
      "Thread count: 8 physical cores, 8 logical processors, using up to 8 threads\n",
      "\n",
      "Optimize a model with 7 rows, 12 columns and 24 nonzeros\n",
      "Model fingerprint: 0x877c9312\n",
      "Coefficient statistics:\n",
      "  Matrix range     [1e+00, 1e+00]\n",
      "  Objective range  [1e+01, 9e+01]\n",
      "  Bounds range     [0e+00, 0e+00]\n",
      "  RHS range        [4e+01, 8e+01]\n",
      "Presolve time: 0.00s\n",
      "Presolved: 7 rows, 12 columns, 24 nonzeros\n",
      "\n",
      "Iteration    Objective       Primal Inf.    Dual Inf.      Time\n",
      "       0    7.5000000e+32   2.400000e+31   7.500000e+02      0s\n",
      "       7    1.8825000e+04   0.000000e+00   0.000000e+00      0s\n",
      "\n",
      "Solved in 7 iterations and 0.01 seconds (0.00 work units)\n",
      "Optimal objective  1.882500000e+04\n",
      "\n",
      "Optimal assignment of hours:\n",
      "Designer 1 -> Project 1: 70.0 hours\n",
      "Designer 1 -> Project 2: 10.0 hours\n",
      "Designer 1 -> Project 3: 0.0 hours\n",
      "Designer 1 -> Project 4: 0.0 hours\n",
      "Designer 2 -> Project 1: 0.0 hours\n",
      "Designer 2 -> Project 2: 40.0 hours\n",
      "Designer 2 -> Project 3: 5.0 hours\n",
      "Designer 2 -> Project 4: 35.0 hours\n",
      "Designer 3 -> Project 1: 0.0 hours\n",
      "Designer 3 -> Project 2: 0.0 hours\n",
      "Designer 3 -> Project 3: 80.0 hours\n",
      "Designer 3 -> Project 4: 0.0 hours\n",
      "\n",
      "Total hours worked by each designer:\n",
      "Designer 1: 80.00 hours\n",
      "Designer 2: 80.00 hours\n",
      "Designer 3: 80.00 hours\n",
      "\n",
      "Total capability score: 18825.0\n"
     ]
    }
   ],
   "source": [
    "from pyomo.environ import *\n",
    "\n",
    "# Create a model\n",
    "model = ConcreteModel()\n",
    "\n",
    "# Sets for designers and projects\n",
    "designers = [1, 2, 3]\n",
    "projects = [1, 2, 3, 4]\n",
    "\n",
    "# Capability scores (designer x project)\n",
    "scores = {\n",
    "    (1, 1): 90, (1, 2): 80, (1, 3): 10, (1, 4): 50,\n",
    "    (2, 1): 60, (2, 2): 70, (2, 3): 50, (2, 4): 65,\n",
    "    (3, 1): 70, (3, 2): 40, (3, 3): 80, (3, 4): 85\n",
    "}\n",
    "\n",
    "# Required hours for each project\n",
    "required_hours = {1: 70, 2: 50, 3: 85, 4: 35}\n",
    "\n",
    "# Maximum hours available per designer\n",
    "max_hours_per_designer = 80\n",
    "\n",
    "# Decision variables: Hours each designer works on each project\n",
    "model.x = Var(designers, projects, bounds=(0, None), within=NonNegativeReals)\n",
    "\n",
    "# Objective: Maximize the total capability score\n",
    "model.obj = Objective(expr=sum(model.x[i, j] * scores[i, j] for i in designers for j in projects), sense=maximize)\n",
    "\n",
    "# Constraint: Each project must receive exactly the required hours\n",
    "model.project_constraints = ConstraintList()\n",
    "for j in projects:\n",
    "    model.project_constraints.add(sum(model.x[i, j] for i in designers) == required_hours[j])\n",
    "\n",
    "# Constraint: Each designer can work at most 80 hours in total\n",
    "model.designer_constraints = ConstraintList()\n",
    "for i in designers:\n",
    "    model.designer_constraints.add(sum(model.x[i, j] for j in projects) <= max_hours_per_designer)\n",
    "\n",
    "# Solve the model\n",
    "solver = SolverFactory('gurobi')\n",
    "solver.solve(model, tee=True)\n",
    "\n",
    "# Display results\n",
    "print(\"\\nOptimal assignment of hours:\")\n",
    "for i in designers:\n",
    "    for j in projects:\n",
    "        print(f\"Designer {i} -> Project {j}: {model.x[i, j].value} hours\")\n",
    "# Calculate and print total hours worked by each designer\n",
    "print(\"\\nTotal hours worked by each designer:\")\n",
    "for i in designers:\n",
    "    total_hours = sum(model.x[i, j].value for j in projects)\n",
    "    print(f\"Designer {i}: {total_hours:.2f} hours\")\n",
    "\n",
    "\n",
    "print(f\"\\nTotal capability score: {model.obj()}\")\n",
    "\n"
   ]
  },
  {
   "cell_type": "code",
   "execution_count": null,
   "id": "06ae9b91",
   "metadata": {},
   "outputs": [],
   "source": []
  },
  {
   "cell_type": "code",
   "execution_count": null,
   "id": "1e7256e7",
   "metadata": {},
   "outputs": [],
   "source": []
  }
 ],
 "metadata": {
  "kernelspec": {
   "display_name": "Python 3 (ipykernel)",
   "language": "python",
   "name": "python3"
  },
  "language_info": {
   "codemirror_mode": {
    "name": "ipython",
    "version": 3
   },
   "file_extension": ".py",
   "mimetype": "text/x-python",
   "name": "python",
   "nbconvert_exporter": "python",
   "pygments_lexer": "ipython3",
   "version": "3.11.5"
  }
 },
 "nbformat": 4,
 "nbformat_minor": 5
}
